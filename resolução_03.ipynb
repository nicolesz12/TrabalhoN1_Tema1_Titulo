{
  "nbformat": 4,
  "nbformat_minor": 0,
  "metadata": {
    "colab": {
      "provenance": [],
      "authorship_tag": "ABX9TyMT3lVg9yZPHFEyJ9c70Bj+",
      "include_colab_link": true
    },
    "kernelspec": {
      "name": "python3",
      "display_name": "Python 3"
    },
    "language_info": {
      "name": "python"
    }
  },
  "cells": [
    {
      "cell_type": "markdown",
      "metadata": {
        "id": "view-in-github",
        "colab_type": "text"
      },
      "source": [
        "<a href=\"https://colab.research.google.com/github/nicolesz12/TrabalhoN1_Tema1_Titulo/blob/main/resolu%C3%A7%C3%A3o_03.ipynb\" target=\"_parent\"><img src=\"https://colab.research.google.com/assets/colab-badge.svg\" alt=\"Open In Colab\"/></a>"
      ]
    },
    {
      "cell_type": "code",
      "execution_count": 10,
      "metadata": {
        "colab": {
          "base_uri": "https://localhost:8080/"
        },
        "id": "BI_KJmP0hBpV",
        "outputId": "45cef208-7864-486e-f45e-ff7a38481bdc"
      },
      "outputs": [
        {
          "output_type": "stream",
          "name": "stdout",
          "text": [
            "{'area urbana': 99.32, 'demanda': 278.551, 'pressao minima': 10, 'pressao maxima': 50}\n"
          ]
        }
      ],
      "source": [
        "#Zona Norte\n",
        "#Consumo medidos per capta = 278.551m³/mês\n",
        "#Pressão mínima = 10 mca\n",
        "#Pressão máxima = 50 mca\n",
        "#Extensão da tubulação total = 628km/ composta por tubulações em PVC e em ferro e amianto\n",
        "\n",
        "\n",
        "\n",
        "dados = [99.32, 278.551, 10, 50]\n",
        "\n",
        "dados = {\n",
        "    \"area urbana\": 99.32,\n",
        "    \"demanda\": 278.551,\n",
        "    \"pressao minima\": 10,\n",
        "    \"pressao maxima\": 50\n",
        "}\n",
        "\n",
        "print(dados)\n",
        "\n",
        "#define a otimizaçao da distribuiçao\n",
        "\n",
        "def otimização(dados):\n",
        "  area_urbana = dados [\"area urbana\"]\n",
        "  demanda = dados [\"demanda\"]\n",
        "  pressao_minima = dados [\"pressao minima\"]\n",
        "  pressao_maxima = dados [\"pressao maxima\"]\n",
        "\n",
        "  pressao_adequada = (pressao_minima + pressao_maxima)/2\n",
        "  pressao_minima = pressao_adequada\n",
        "  pressao_maxima = pressao_adequada\n",
        "\n",
        "  print(pressao_minima)\n",
        "  print(pressao_maxima)\n",
        "\n",
        "  otimizaçao(dados)\n",
        "\n",
        "  from scipy.optimize import minimize\n",
        "\n",
        "  def vazão(pressao, dados):\n",
        "    k = 0.90\n",
        "    c = 0.1\n",
        "    d = 0.6\n",
        "    s = 0.00011\n",
        "\n",
        "    return k * c * d**(2.63) * (pressao / (10.2 * dados[\"area urbana\"]))**(0.54)\n",
        "\n",
        "    def otimizaçao(pressao, dados):\n",
        "      return vazão(pressao, dados)\n",
        "\n",
        "      def otimizaçao(dados):\n",
        "\n",
        "        restrição = (\n",
        "            {'type': 'ineq', 'fun': lambda pressao: pressao - dados [\"pressao minima\"]},\n",
        "            {'type': 'ineq', 'fun': lambda pressao: dados[\"pressao maxima\"] - pressao}\n",
        "\n",
        "        )\n",
        "        pressao_inicial = (dados[\"pressao minima\"] + dados[\"pressao maxima\"])/2\n",
        "\n",
        "        from scipy.optimize import minimize_scalar\n",
        "        resultado = minimize(otimizaçao, pressao_inicial, args=(dados,), constraints=restricoes)\n",
        "  print(\"pressao ideai para maximizar vazao:\", resultado.x[0])\n",
        "\n",
        "  otimizaçao(dados)\n",
        "\n",
        "  return area_urbana, demanda, pressao_minima, pressao_maxima\n",
        "\n",
        "  #chamada a funçao otimizaçao\n",
        "  print(otimizaçao(dados))\n",
        ""
      ]
    }
  ]
}