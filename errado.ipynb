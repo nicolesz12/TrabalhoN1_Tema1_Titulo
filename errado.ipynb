{
  "nbformat": 4,
  "nbformat_minor": 0,
  "metadata": {
    "colab": {
      "provenance": [],
      "authorship_tag": "ABX9TyPnukXHsoNBvxbHYpvqSVo7",
      "include_colab_link": true
    },
    "kernelspec": {
      "name": "python3",
      "display_name": "Python 3"
    },
    "language_info": {
      "name": "python"
    }
  },
  "cells": [
    {
      "cell_type": "markdown",
      "metadata": {
        "id": "view-in-github",
        "colab_type": "text"
      },
      "source": [
        "<a href=\"https://colab.research.google.com/github/nicolesz12/TrabalhoN1_Tema1_Titulo/blob/main/errado.ipynb\" target=\"_parent\"><img src=\"https://colab.research.google.com/assets/colab-badge.svg\" alt=\"Open In Colab\"/></a>"
      ]
    },
    {
      "cell_type": "code",
      "execution_count": null,
      "metadata": {
        "id": "w-ofns5cdTN1"
      },
      "outputs": [],
      "source": [
        "#Zona Norte\n",
        "#Consumo medidos per capta = 278.551m³/mês\n",
        "#Pressão mínima = 10 mca\n",
        "#Pressão máxima = 50 mca\n",
        "#Extensão da tubulação total = 628km/ composta por tubulações em PVC e em ferro e amianto\n",
        "\n",
        "codigo_da_regiao = {\n",
        "    1: \"ZN\",\n",
        "    2: \"ZS\",\n",
        "    3: \"ZL\",\n",
        "    4: \"ZO\"\n",
        "}\n",
        "informacoes_zn = {\n",
        "    \"Consumo medidos per capta\": 278551,\n",
        "    \"Pressão mínima\": 10,\n",
        "    \"Pressão máxima\": 50,\n",
        "    \"Extensão da tubulação total\": 628\n",
        "}\n",
        "\n",
        "codigo = float(input(\"Digite o código da área que você quer analisar:\"))\n",
        "\n",
        "if codigo in codigo_da_regiao:\n",
        "   print(\"A área é:\", codigo_da_regiao[codigo])\n",
        "\n",
        "   # Crie uma cópia do dicionário codigo_da_regiao\n",
        "dados_regioes = codigo_da_regiao.copy()\n",
        "\n",
        "# Adicione as informações da Zona Norte ao novo dicionário\n",
        "dados_regioes.update({1: informacoes_zn})\n",
        "\n",
        "# Imprima o novo dicionário\n",
        "print(dados_regioes)\n",
        "\n",
        "#otimize\n",
        "\n",
        "# otimizacao\n",
        "def vazao(pressao, dados):\n",
        "        k = 0.90\n",
        "        c = 0.1\n",
        "        d = 0.6\n",
        "        s = 0.00011\n",
        "        return k * c * d**(2.63) * (pressao / (10.2 * dados[\"area urbana\"]))**(0.54)\n",
        "\n",
        "def otimizacao(dados):\n",
        "        pressao_minima = dados[\"Pressão mínima\"]\n",
        "        pressao_maxima = dados[\"Pressão máxima\"]\n",
        "        pressao_adequada = (pressao_minima + pressao_maxima) / 2\n",
        "        dados[\"Pressão mínima\"] = pressao_adequada\n",
        "        dados[\"Pressão máxima\"] = pressao_adequada\n",
        "\n",
        "        restricoes = (\n",
        "            {'type': 'ineq', 'fun': lambda pressao: pressao - dados[\"Pressão mínima\"]},\n",
        "            {'type': 'ineq', 'fun': lambda pressao: dados[\"Pressão máxima\"] - pressao}\n",
        "        )\n",
        "\n",
        "        pressao_inicial = (dados[\"Pressão mínima\"] + dados[\"Pressão máxima\"]) / 2\n",
        "        resultado = minimize_scalar(vazao, bounds=(pressao_minima, pressao_maxima), args=(dados,), method='bounded')\n",
        "\n",
        "        print(\"Pressão ideal para maximizar vazão:\", resultado.x)\n",
        "        return dados[\"area urbana\"], dados[\"demanda\"], dados[\"Pressão mínima\"], dados[\"Pressão máxima\"]\n",
        "\n",
        "# Chamada à função de otimização\n",
        "area_urbana, demanda, pressao_minima, pressao_maxima = otimizacao(informacoes_zn)\n",
        "print(f\"Área Urbana: {area_urbana}, Demanda: {demanda}, Pressão Mínima: {pressao_minima}, Pressão Máxima: {pressao_maxima}\")\n",
        "else:\n",
        "print(\"Código de área inválido.\")"
      ]
    }
  ]
}