{
  "nbformat": 4,
  "nbformat_minor": 0,
  "metadata": {
    "colab": {
      "provenance": [],
      "authorship_tag": "ABX9TyN/6/gjGiOABuMI6P1PDBdt",
      "include_colab_link": true
    },
    "kernelspec": {
      "name": "python3",
      "display_name": "Python 3"
    },
    "language_info": {
      "name": "python"
    }
  },
  "cells": [
    {
      "cell_type": "markdown",
      "metadata": {
        "id": "view-in-github",
        "colab_type": "text"
      },
      "source": [
        "<a href=\"https://colab.research.google.com/github/nicolesz12/TrabalhoN1_Tema1_Titulo/blob/main/Desenvolvimento_02.ipynb\" target=\"_parent\"><img src=\"https://colab.research.google.com/assets/colab-badge.svg\" alt=\"Open In Colab\"/></a>"
      ]
    },
    {
      "cell_type": "markdown",
      "source": [
        "# **Variações de pressão na distribuição de água**"
      ],
      "metadata": {
        "id": "dDlWcxX1VeaK"
      }
    },
    {
      "cell_type": "markdown",
      "source": [
        "Variações de pressão na distribuição de água em horário de ponta\n",
        "As redes de distribuição de água são formadas pelos seguintes elementos: tubulações, reservatórios, os “boosters” ou bombas e as válvulas de controle da rede, com o objetivo de colocar água potável à disposição dos consumidores. Os “boosters” e as bombas servem para garantir a pressão adequada para o bom funcionamento da rede hidráulica, incrementando com energia a rede nos horários de aumento da perda de carga, além disso, a reserva de água em sistemas de distribuição de é imposta por condições técnicas, econômicas e de segurança.\n",
        "\n",
        "Os reservatórios têm finalidades múltiplas como:\n",
        "\n",
        "Compensar as variações ou flutuações no consumo, regularizando assim uma vazão média proveniente da Estação de Tratamento de Água - ETA;\n",
        "Assegurar uma reserva de água para situações de emergência como combate a incêndios;\n",
        "Fornecer água nos casos de interrupção de adução;\n",
        "Regularizar pressões de serviço mínimas adequadas e outros.\n",
        "De acordo com a ABNT, NBR 12218/1994, a pressão estática máxima na rede hidráulica deve ser de 50 mca - metro de coluna d'água - e a pressão mínima dinâmica de 10mca.\n",
        "\n",
        "A capacidade dos reservatórios é obtida em função de sua finalidade principal.\n",
        "\n",
        "Quanto à localização, os reservatórios devem estar situados de maneira que a água a ser distribuída possa atingir por gravidade os pontos de consumo através das tubulações. Eles apresentam diferentes formas geométricas, dependentes das situações topográficas, sendo em alguns casos elevados, enterrados, semi-enterrados ou apoiados sobre o terreno.\n",
        "\n",
        "Em um sistema de abastecimento de água, a rede de distribuição geralmente não está sob constante inspeção, diferente das obras de captação, adução, tratamento e reservatórios que se encontram mais concentrados e têm uma equipe que pode vistoriar e fazer as manutenções necessárias, por serem obras visíveis e de fácil acessibilidade. As redes de distribuição são enterradas, ou seja, ficam sob as vias públicas, tendo assim difícil acesso e ocasionando perdas de água quando a manutenções corretivas são postergadas.\n",
        "\n",
        "As altas pressões ou variações frequentes de pressão são um dos principais fatores que influenciam o número de vazamentos O controle da pressão pela companhia de saneamento é essencial para a redução de perdas.\n",
        "\n"
      ],
      "metadata": {
        "id": "myqxiuqMVLdB"
      }
    },
    {
      "cell_type": "code",
      "source": [
        "#Usando loop while\n",
        "#Diâmetro da tubulação de via publica = entre 75 a 300 milímetros / Pressão da água = mínima de 10 MCA e máxima de 50 MCA /\n",
        "\n",
        "#Verifique se há problemas na tubulação\n",
        "#não é permitido pressão menor que 10 MCA na distribuição para as residências\n",
        "#residência com 4 pessoas média de consumo de 600 litros diários\n",
        "\n",
        "print('Insira os dados corretamente para fazer análise')\n",
        "dado_inicial = ['75 milímetros = 10 MCA']\n",
        "while True: #Loop infinito // infinete Loop\n",
        " pressao_residencia = float(input(\"Qual o valor da pressão que a residência recebe: \"))\n",
        " #verificando se a pressão 10.0 > pressao_residencia < 10\n",
        " if pressao_residencia < 9.0:\n",
        "  print(\"Atenção: Pressão da residência está abaixo do padrão aceitável, solicitar verificação.\")\n",
        " elif pressao_residencia >= 51.0:\n",
        "   print(\"Atenção: Pressão da residência está acima do padrão aceitável, solicitar verificação.\")\n",
        " else:\n",
        "  print(\"Pressão da residência está dentro dos padrões aceitáveis.\")\n",
        "  break\n",
        "\n"
      ],
      "metadata": {
        "colab": {
          "base_uri": "https://localhost:8080/"
        },
        "id": "urlmY5RZWVS6",
        "outputId": "1214bc09-9ec6-4b55-e526-c9d47d8aecf2"
      },
      "execution_count": 11,
      "outputs": [
        {
          "output_type": "stream",
          "name": "stdout",
          "text": [
            "Insira os dados corretamente para fazer análise\n",
            "Qual o valor da pressão que a residência recebe: 51\n",
            "Atenção: Pressão da residência está acima do padrão aceitável, solicitar verificação.\n",
            "Qual o valor da pressão que a residência recebe: 8\n",
            "Atenção: Pressão da residência está abaixo do padrão aceitável, solicitar verificação.\n",
            "Qual o valor da pressão que a residência recebe: 10\n",
            "Pressão da residência está dentro dos padrões aceitáveis.\n"
          ]
        }
      ]
    },
    {
      "cell_type": "code",
      "source": [],
      "metadata": {
        "id": "s8Km6KbuwS-z"
      },
      "execution_count": null,
      "outputs": []
    }
  ]
}