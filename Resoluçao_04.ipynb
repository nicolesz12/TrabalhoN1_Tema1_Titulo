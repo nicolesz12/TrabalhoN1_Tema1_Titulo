{
  "nbformat": 4,
  "nbformat_minor": 0,
  "metadata": {
    "colab": {
      "provenance": [],
      "authorship_tag": "ABX9TyPVGbXrtBUMP4EJegJS+gf4",
      "include_colab_link": true
    },
    "kernelspec": {
      "name": "python3",
      "display_name": "Python 3"
    },
    "language_info": {
      "name": "python"
    }
  },
  "cells": [
    {
      "cell_type": "markdown",
      "metadata": {
        "id": "view-in-github",
        "colab_type": "text"
      },
      "source": [
        "<a href=\"https://colab.research.google.com/github/nicolesz12/TrabalhoN1_Tema1_Titulo/blob/main/Resolu%C3%A7ao_04.ipynb\" target=\"_parent\"><img src=\"https://colab.research.google.com/assets/colab-badge.svg\" alt=\"Open In Colab\"/></a>"
      ]
    },
    {
      "cell_type": "code",
      "execution_count": 13,
      "metadata": {
        "colab": {
          "base_uri": "https://localhost:8080/",
          "height": 106
        },
        "id": "qFPUiAKfShhr",
        "outputId": "be400b66-0689-4a17-ee96-b2632c21c795"
      },
      "outputs": [
        {
          "output_type": "error",
          "ename": "SyntaxError",
          "evalue": "invalid syntax (<ipython-input-13-f85ebc72179e>, line 65)",
          "traceback": [
            "\u001b[0;36m  File \u001b[0;32m\"<ipython-input-13-f85ebc72179e>\"\u001b[0;36m, line \u001b[0;32m65\u001b[0m\n\u001b[0;31m    else:\u001b[0m\n\u001b[0m    ^\u001b[0m\n\u001b[0;31mSyntaxError\u001b[0m\u001b[0;31m:\u001b[0m invalid syntax\n"
          ]
        }
      ],
      "source": [
        "#Zona Norte\n",
        "#Consumo medidos per capta = 278.551m³/mês\n",
        "#Pressão mínima = 10 mca\n",
        "#Pressão máxima = 50 mca\n",
        "#Extensão da tubulação total = 628km/ composta por tubulações em PVC e em ferro e amianto\n",
        "\n",
        "codigo_da_regiao = {\n",
        "    1: \"ZN\",\n",
        "    2: \"ZS\",\n",
        "    3: \"ZL\",\n",
        "    4: \"ZO\"\n",
        "}\n",
        "informacoes_zn = {\n",
        "    \"Consumo medidos per capta\": 278551,\n",
        "    \"Pressão mínima\": 10,\n",
        "    \"Pressão máxima\": 50,\n",
        "    \"Extensão da tubulação total\": 628\n",
        "}\n",
        "\n",
        "codigo = float(input(\"Digite o código da área que você quer analisar:\"))\n",
        "\n",
        "if codigo in codigo_da_regiao:\n",
        "   print(\"A área é:\", codigo_da_regiao[codigo])\n",
        "\n",
        "   # Crie uma cópia do dicionário codigo_da_regiao\n",
        "dados_regioes = codigo_da_regiao.copy()\n",
        "\n",
        "# Adicione as informações da Zona Norte ao novo dicionário\n",
        "dados_regioes.update({1: informacoes_zn})\n",
        "\n",
        "# Imprima o novo dicionário\n",
        "print(dados_regioes)\n",
        "\n",
        "#otimize\n",
        "\n",
        "# otimizacao\n",
        "def vazao(pressao, dados):\n",
        "        k = 0.90\n",
        "        c = 0.1\n",
        "        d = 0.6\n",
        "        s = 0.00011\n",
        "        return k * c * d**(2.63) * (pressao / (10.2 * dados[\"area urbana\"]))**(0.54)\n",
        "\n",
        "def otimizacao(dados):\n",
        "        pressao_minima = dados[\"Pressão mínima\"]\n",
        "        pressao_maxima = dados[\"Pressão máxima\"]\n",
        "        pressao_adequada = (pressao_minima + pressao_maxima) / 2\n",
        "        dados[\"Pressão mínima\"] = pressao_adequada\n",
        "        dados[\"Pressão máxima\"] = pressao_adequada\n",
        "\n",
        "\n"
      ]
    }
  ]
}