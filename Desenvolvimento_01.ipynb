{
  "nbformat": 4,
  "nbformat_minor": 0,
  "metadata": {
    "colab": {
      "provenance": [],
      "authorship_tag": "ABX9TyPGxtMuzmhssoVQKaotJMro",
      "include_colab_link": true
    },
    "kernelspec": {
      "name": "python3",
      "display_name": "Python 3"
    },
    "language_info": {
      "name": "python"
    }
  },
  "cells": [
    {
      "cell_type": "markdown",
      "metadata": {
        "id": "view-in-github",
        "colab_type": "text"
      },
      "source": [
        "<a href=\"https://colab.research.google.com/github/nicolesz12/TrabalhoN1_Tema1_Titulo/blob/main/Desenvolvimento_01.ipynb\" target=\"_parent\"><img src=\"https://colab.research.google.com/assets/colab-badge.svg\" alt=\"Open In Colab\"/></a>"
      ]
    },
    {
      "cell_type": "code",
      "execution_count": null,
      "metadata": {
        "id": "hmFBnbcTESib"
      },
      "outputs": [],
      "source": []
    },
    {
      "cell_type": "markdown",
      "source": [
        "# **Variações de pressão na distribuição de água em horário de ponta**"
      ],
      "metadata": {
        "id": "7QrQrpcDET7s"
      }
    },
    {
      "cell_type": "markdown",
      "source": [
        "As redes de distribuição de água são formadas pelos seguintes elementos:  tubulações, reservatórios, os “boosters” ou bombas e as válvulas de controle da rede, com o objetivo de\n",
        "colocar água potável à disposição dos consumidores.  Os “boosters” e as bombas servem para garantir a pressão adequada para o bom funcionamento da rede hidráulica, incrementando com energia a rede nos horários de aumento da perda de carga, além disso, a reserva de água em sistemas de distribuição de é imposta por condições técnicas, econômicas e de segurança.  \n",
        "\n",
        "\n",
        "Os reservatórios têm finalidades múltiplas como:\n",
        "\n",
        "- Compensar as variações ou flutuações no consumo, regularizando assim uma vazão média proveniente da Estação de Tratamento de Água - ETA;\n",
        "- Assegurar uma reserva de água para situações de emergência como combate a incêndios;\n",
        "- Fornecer água nos casos de interrupção de adução;\n",
        "- Regularizar pressões de serviço mínimas adequadas e outros.\n",
        "\n",
        "De acordo com a ABNT, NBR 12218/1994, a pressão estática máxima na rede hidráulica deve ser de 50 mca - metro de coluna d'água - e a pressão mínima dinâmica de 10mca.\n",
        "\n",
        "A capacidade dos reservatórios é obtida em função de sua finalidade principal.\n",
        "\n",
        " Quanto à localização, os reservatórios devem estar situados de maneira que a água\n",
        "a ser distribuída possa atingir por gravidade os pontos de consumo através das tubulações. Eles apresentam diferentes formas geométricas, dependentes das situações\n",
        "topográficas, sendo em alguns casos elevados, enterrados, semi-enterrados ou apoiados\n",
        "sobre o terreno.\n",
        "\n",
        "Em um sistema de abastecimento de água, a rede de distribuição geralmente não está sob constante inspeção, diferente das obras de captação, adução, tratamento e reservatórios que se encontram mais concentrados e têm uma equipe que pode vistoriar e fazer as manutenções necessárias, por serem obras visíveis e de fácil acessibilidade. As redes de distribuição são enterradas, ou seja, ficam sob as vias públicas, tendo assim difícil acesso e ocasionando perdas de água quando a manutenções corretivas são postergadas.\n",
        "\n",
        "As altas pressões ou variações frequentes de pressão são um dos principais fatores que influenciam o número de vazamentos O controle da pressão pela companhia de saneamento é essencial para a redução de perdas.\n",
        "\n"
      ],
      "metadata": {
        "id": "JHtK48pOGY6T"
      }
    },
    {
      "cell_type": "markdown",
      "source": [],
      "metadata": {
        "id": "mqbCVpdgZyA8"
      }
    },
    {
      "cell_type": "markdown",
      "source": [],
      "metadata": {
        "id": "VEJVCe70ZjhV"
      }
    },
    {
      "cell_type": "markdown",
      "source": [],
      "metadata": {
        "id": "qyZG37IGY2ZH"
      }
    }
  ]
}