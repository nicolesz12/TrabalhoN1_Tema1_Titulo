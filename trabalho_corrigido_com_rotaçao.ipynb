{
  "nbformat": 4,
  "nbformat_minor": 0,
  "metadata": {
    "colab": {
      "provenance": [],
      "authorship_tag": "ABX9TyNifHJEZ72oYc8XrcpgTj/3",
      "include_colab_link": true
    },
    "kernelspec": {
      "name": "python3",
      "display_name": "Python 3"
    },
    "language_info": {
      "name": "python"
    }
  },
  "cells": [
    {
      "cell_type": "markdown",
      "metadata": {
        "id": "view-in-github",
        "colab_type": "text"
      },
      "source": [
        "<a href=\"https://colab.research.google.com/github/nicolesz12/TrabalhoN1_Tema1_Titulo/blob/main/trabalho_corrigido_com_rota%C3%A7ao.ipynb\" target=\"_parent\"><img src=\"https://colab.research.google.com/assets/colab-badge.svg\" alt=\"Open In Colab\"/></a>"
      ]
    },
    {
      "cell_type": "code",
      "execution_count": 1,
      "metadata": {
        "colab": {
          "base_uri": "https://localhost:8080/"
        },
        "id": "pMh2eZ3W0LIU",
        "outputId": "673d23cd-d123-4595-e753-c1f913c93f7a"
      },
      "outputs": [
        {
          "output_type": "stream",
          "name": "stdout",
          "text": [
            "\n",
            "--- Dia 1 ---\n",
            "Adicionado 8000 litros ao reservatório. Estoque atual: 8000 litros.\n",
            "Distribuído 5000 litros para Centro. Estoque do reservatório: 3000 litros.\n",
            "Centro foi abastecido com água.\n",
            "Não há água suficiente no reservatório para Jardins. Estoque atual: 3000 litros.\n",
            "Jardins não tem água suficiente! Falta 4000 litros.\n",
            "\n",
            "--- Dia 2 ---\n",
            "Adicionado 8000 litros ao reservatório. Estoque atual: 11000 litros.\n",
            "Distribuído 5000 litros para Centro. Estoque do reservatório: 6000 litros.\n",
            "Centro foi abastecido com água.\n",
            "Distribuído 4000 litros para Jardins. Estoque do reservatório: 2000 litros.\n",
            "Jardins foi abastecido com água.\n",
            "\n",
            "--- Dia 3 ---\n",
            "Adicionado 8000 litros ao reservatório. Estoque atual: 10000 litros.\n",
            "Distribuído 5000 litros para Centro. Estoque do reservatório: 5000 litros.\n",
            "Centro foi abastecido com água.\n",
            "Distribuído 4000 litros para Jardins. Estoque do reservatório: 1000 litros.\n",
            "Jardins foi abastecido com água.\n",
            "\n",
            "--- Dia 4 ---\n",
            "Adicionado 8000 litros ao reservatório. Estoque atual: 9000 litros.\n",
            "Distribuído 5000 litros para Centro. Estoque do reservatório: 4000 litros.\n",
            "Centro foi abastecido com água.\n",
            "Distribuído 4000 litros para Jardins. Estoque do reservatório: 0 litros.\n",
            "Jardins foi abastecido com água.\n",
            "\n",
            "--- Dia 5 ---\n",
            "Adicionado 8000 litros ao reservatório. Estoque atual: 8000 litros.\n",
            "Distribuído 5000 litros para Centro. Estoque do reservatório: 3000 litros.\n",
            "Centro foi abastecido com água.\n",
            "Não há água suficiente no reservatório para Jardins. Estoque atual: 3000 litros.\n",
            "Jardins não tem água suficiente! Falta 4000 litros.\n"
          ]
        }
      ],
      "source": [
        "import time\n",
        "\n",
        "class Bairro:\n",
        "    def __init__(self, nome, populacao, demanda):\n",
        "        self.nome = nome\n",
        "        self.populacao = populacao\n",
        "        self.demanda = demanda  # em litros por dia\n",
        "        self.agua = 0\n",
        "\n",
        "    def receber_agua(self, quantidade):\n",
        "        self.agua += quantidade\n",
        "\n",
        "    def abastecer(self):\n",
        "        if self.agua >= self.demanda:\n",
        "            print(f\"{self.nome} foi abastecido com água.\")\n",
        "            self.agua -= self.demanda\n",
        "        else:\n",
        "            print(f\"{self.nome} não tem água suficiente! Falta {self.demanda - self.agua} litros.\")\n",
        "\n",
        "class Reservatorio:\n",
        "    def __init__(self, capacidade):\n",
        "        self.capacidade = capacidade\n",
        "        self.estoque = 0\n",
        "\n",
        "    def adicionar_agua(self, quantidade):\n",
        "        if quantidade + self.estoque <= self.capacidade:\n",
        "            self.estoque += quantidade\n",
        "            print(f\"Adicionado {quantidade} litros ao reservatório. Estoque atual: {self.estoque} litros.\")\n",
        "        else:\n",
        "            print(\"Capacidade do reservatório excedida!\")\n",
        "\n",
        "    def distribuir_agua(self, bairro, quantidade):\n",
        "        if quantidade <= self.estoque:\n",
        "            bairro.receber_agua(quantidade)\n",
        "            self.estoque -= quantidade\n",
        "            print(f\"Distribuído {quantidade} litros para {bairro.nome}. Estoque do reservatório: {self.estoque} litros.\")\n",
        "        else:\n",
        "            print(f\"Não há água suficiente no reservatório para {bairro.nome}. Estoque atual: {self.estoque} litros.\")\n",
        "\n",
        "def main():\n",
        "    # Criando bairros\n",
        "    bairro1 = Bairro(\"Centro\", 1000, 5000)\n",
        "    bairro2 = Bairro(\"Jardins\", 800, 4000)\n",
        "\n",
        "    # Criando o reservatório\n",
        "    reservatorio = Reservatorio(capacidade=20000)\n",
        "\n",
        "    # Abastecimento contínuo e simulação\n",
        "    dias = 5  # Número de dias da simulação\n",
        "    for dia in range(1, dias + 1):\n",
        "        print(f\"\\n--- Dia {dia} ---\")\n",
        "\n",
        "        # Simulando o abastecimento de água no reservatório\n",
        "        agua_diaria = 8000  # Água recebida diariamente no reservatório\n",
        "        reservatorio.adicionar_agua(agua_diaria)\n",
        "\n",
        "        # Distribuição de água para os bairros\n",
        "        reservatorio.distribuir_agua(bairro1, 5000)\n",
        "        bairro1.abastecer()\n",
        "\n",
        "        reservatorio.distribuir_agua(bairro2, 4000)\n",
        "        bairro2.abastecer()\n",
        "\n",
        "        # Simulação de um intervalo entre dias\n",
        "        time.sleep(2)  # Espera de 2 segundos para simular o próximo dia\n",
        "\n",
        "if __name__ == \"__main__\":\n",
        "    main()"
      ]
    }
  ]
}